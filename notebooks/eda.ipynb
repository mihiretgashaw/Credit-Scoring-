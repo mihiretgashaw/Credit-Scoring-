{
 "cells": [
  {
   "cell_type": "code",
   "execution_count": null,
   "id": "7e8e3d75",
   "metadata": {},
   "outputs": [],
   "source": [
    "# import libraries\n",
    "import pandas as pd\n",
    "import numpy as np\n",
    "import matplotlib.pyplot as plt\n",
    "import seaborn as sns\n"
   ]
  },
  {
   "cell_type": "code",
   "execution_count": null,
   "id": "777bf777",
   "metadata": {},
   "outputs": [],
   "source": [
    "# Display settings\n",
    "pd.set_option('display.max_columns', None)\n",
    "sns.set(style='whitegrid')\n",
    "\n",
    "# 2. Load the Dataset\n",
    "df = pd.read_csv('C:/Users/pc/Desktop/10 Academy/week 5/data/raw/data.csv')"
   ]
  },
  {
   "cell_type": "code",
   "execution_count": null,
   "id": "661e819e",
   "metadata": {},
   "outputs": [],
   "source": [
    "# data overview \n",
    "\n",
    "df.info()\n",
    "df.head()"
   ]
  },
  {
   "cell_type": "code",
   "execution_count": null,
   "id": "74860ced",
   "metadata": {},
   "outputs": [],
   "source": [
    "# Summary stats for numerical features\n",
    "df.describe()\n",
    "\n",
    "# Summary for categorical features\n",
    "df.describe(include='object')"
   ]
  },
  {
   "cell_type": "code",
   "execution_count": null,
   "id": "9a1f5b04",
   "metadata": {},
   "outputs": [],
   "source": [
    "numerical_cols = df.select_dtypes(include=[np.number]).columns\n",
    "\n",
    "# Histogram for each numerical feature\n",
    "df[numerical_cols].hist(figsize=(15, 12), bins=30)\n",
    "plt.tight_layout()\n",
    "plt.show()\n"
   ]
  },
  {
   "cell_type": "code",
   "execution_count": null,
   "id": "e2607e29",
   "metadata": {},
   "outputs": [],
   "source": [
    "# categorical_cols = df.select_dtypes(include='object').columns\n",
    "\n",
    "# # Bar plot for each categorical column\n",
    "# for col in categorical_cols:\n",
    "#     plt.figure(figsize=(6, 3))\n",
    "#     sns.countplot(x=col, data=df, order=df[col].value_counts().index)\n",
    "#     plt.xticks(rotation=45)\n",
    "#     plt.title(f'Distribution of {col}')\n",
    "#     plt.show()\n"
   ]
  },
  {
   "cell_type": "code",
   "execution_count": null,
   "id": "c598f0ce",
   "metadata": {},
   "outputs": [],
   "source": [
    "for col in categorical_cols:\n",
    "    top_categories = df[col].value_counts().nlargest(10).index\n",
    "    plt.figure(figsize=(6, 3))\n",
    "    sns.countplot(x=col, data=df[df[col].isin(top_categories)],\n",
    "                  order=top_categories)\n",
    "    plt.xticks(rotation=45)\n",
    "    plt.title(f'Top 10 Categories in {col}')\n",
    "    plt.tight_layout()\n",
    "    plt.show()\n"
   ]
  },
  {
   "cell_type": "code",
   "execution_count": null,
   "id": "f97394e6",
   "metadata": {},
   "outputs": [],
   "source": [
    "# Correlation matrix\n",
    "plt.figure(figsize=(12, 10))\n",
    "sns.heatmap(df[numerical_cols].corr(), annot=True, cmap='coolwarm', fmt=\".2f\")\n",
    "plt.title('Correlation Matrix')\n",
    "plt.show()\n"
   ]
  },
  {
   "cell_type": "code",
   "execution_count": null,
   "id": "a832acf2",
   "metadata": {},
   "outputs": [],
   "source": [
    "# Identifying Missing Values\n",
    "missing = df.isnull().sum()\n",
    "missing = missing[missing > 0].sort_values(ascending=False)\n",
    "missing_percent = (missing / len(df)) * 100\n",
    "missing_df = pd.DataFrame({'Missing Count': missing, 'Percent': missing_percent})\n",
    "missing_df\n"
   ]
  },
  {
   "cell_type": "code",
   "execution_count": null,
   "id": "8b9a6ac8",
   "metadata": {},
   "outputs": [],
   "source": [
    "# Outlier Detection\n",
    "for col in numerical_cols:\n",
    "    plt.figure(figsize=(6, 3))\n",
    "    sns.boxplot(x=df[col])\n",
    "    plt.title(f'Boxplot of {col}')\n",
    "    plt.show()\n"
   ]
  }
 ],
 "metadata": {
  "kernelspec": {
   "display_name": "venv",
   "language": "python",
   "name": "python3"
  },
  "language_info": {
   "codemirror_mode": {
    "name": "ipython",
    "version": 3
   },
   "file_extension": ".py",
   "mimetype": "text/x-python",
   "name": "python",
   "nbconvert_exporter": "python",
   "pygments_lexer": "ipython3",
   "version": "3.11.3"
  }
 },
 "nbformat": 4,
 "nbformat_minor": 5
}
